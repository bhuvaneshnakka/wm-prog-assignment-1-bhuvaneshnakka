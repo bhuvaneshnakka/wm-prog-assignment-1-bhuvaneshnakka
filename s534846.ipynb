{
 "cells": [
  {
   "cell_type": "markdown",
   "metadata": {},
   "source": [
    "# Bhuvanesh Nakka \n"
   ]
  },
  {
   "cell_type": "code",
   "execution_count": 3,
   "metadata": {},
   "outputs": [
    {
     "name": "stdout",
     "output_type": "stream",
     "text": [
      "#      #\n",
      "##    ##\n",
      "###  ###\n",
      "########\n"
     ]
    }
   ],
   "source": [
    "v =4\n",
    "h =8\n",
    "for verti in range (1,v+1):\n",
    "    sub =h -(2*verti)\n",
    "    string =\"\"\n",
    "    for i in range (verti):\n",
    "          string =string+'#'\n",
    "        \n",
    "    for i in range (sub):\n",
    "        string =string+\" \"\n",
    "        \n",
    "    for i in range (verti):\n",
    "        string =string+'#'\n",
    "    \n",
    "    print(string)"
   ]
  },
  {
   "cell_type": "code",
   "execution_count": null,
   "metadata": {},
   "outputs": [],
   "source": []
  }
 ],
 "metadata": {
  "kernelspec": {
   "display_name": "Python 3",
   "language": "python",
   "name": "python3"
  },
  "language_info": {
   "codemirror_mode": {
    "name": "ipython",
    "version": 3
   },
   "file_extension": ".py",
   "mimetype": "text/x-python",
   "name": "python",
   "nbconvert_exporter": "python",
   "pygments_lexer": "ipython3",
   "version": "3.7.3"
  }
 },
 "nbformat": 4,
 "nbformat_minor": 2
}
