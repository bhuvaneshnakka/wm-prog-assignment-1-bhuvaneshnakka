{
 "cells": [
  {
   "cell_type": "markdown",
   "metadata": {},
   "source": [
    "# Web Mining Programming Assignment 1\n",
    "\n",
    "## Python Basics\n",
    "\n",
    "### Bhuvanesh Nakka:\n",
    "\n",
    "In this assignment you will be writing several small snippets of Python to solve individual problems.  Unless otherwise specified, you should put your work in the integrated Code cells in this document.\n",
    "\n",
    "1. Type your name on the line that says \"Student Name\"\n",
    "\n",
    "2. Write Python code that divides two numbers, stores the result in a variable and prints the result with an appropriate label."
   ]
  },
  {
   "cell_type": "code",
   "execution_count": 2,
   "metadata": {},
   "outputs": [
    {
     "name": "stdout",
     "output_type": "stream",
     "text": [
      "Division of 100 divides 20 is 5\n"
     ]
    }
   ],
   "source": [
    "variable1 =100\n",
    "variable2=20\n",
    "variable3 =variable1//variable2\n",
    "print('Division of ' + str(variable1) + ' divides ' + str(variable2)  + ' is ' + str(variable3))"
   ]
  },
  {
   "cell_type": "markdown",
   "metadata": {},
   "source": [
    "3. Using loops (and potentially conditionals), write Python code that prints the factorial of each integer from 1 through 10 (which you can store in a variable if you want).  The factorial of an integer is the product of all of the integers of 1 through the number.  Print the result."
   ]
  },
  {
   "cell_type": "code",
   "execution_count": 6,
   "metadata": {},
   "outputs": [
    {
     "name": "stdout",
     "output_type": "stream",
     "text": [
      "factorial of 1 is 1\n",
      "factorial of 2 is 2\n",
      "factorial of 3 is 6\n",
      "factorial of 4 is 24\n",
      "factorial of 5 is 120\n",
      "factorial of 6 is 720\n",
      "factorial of 7 is 5040\n",
      "factorial of 8 is 40320\n",
      "factorial of 9 is 362880\n",
      "factorial of 10 is 3628800\n"
     ]
    }
   ],
   "source": [
    "def factorial():\n",
    "    for my_var in range (1,11):\n",
    "        var =1\n",
    "        for i in range (1, my_var+1):\n",
    "            var  =var*i\n",
    "        \n",
    "        print('factorial of '+str(my_var)+ ' is '+str(var))\n",
    "        \n",
    "  \n",
    "factorial()    "
   ]
  },
  {
   "cell_type": "markdown",
   "metadata": {},
   "source": [
    "4. Create a new Jupyter Notebook (the name of the notebook should be your S number).  Add a Markdown cell that contains your name.  Add a Code cell and write Python that uses loops to draw the following pattern:\n",
    "\n",
    "```python\n",
    "#      #\n",
    "##    ##\n",
    "###  ###\n",
    "########\n",
    "```\n",
    "\n",
    "Submit both this notebook and your new notebook to your repository."
   ]
  },
  {
   "cell_type": "code",
   "execution_count": 9,
   "metadata": {},
   "outputs": [
    {
     "name": "stdout",
     "output_type": "stream",
     "text": [
      " #      #\n",
      " ##    ##\n",
      " ###  ###\n",
      " ########\n"
     ]
    }
   ],
   "source": [
    "v =4\n",
    "h =8\n",
    "for vertical in range (1,v+1):\n",
    "    sub =h -(2*vertical)\n",
    "    string =\"\"\n",
    "    for i in range (vertical):\n",
    "          string =string+'#'\n",
    "        \n",
    "    for i in range (sub):\n",
    "        string =string+\" \"\n",
    "        \n",
    "    for i in range (vertical):\n",
    "        string =string+'#'\n",
    "    \n",
    "    print(string)\n",
    "    \n",
    "  \n",
    "    "
   ]
  },
  {
   "cell_type": "code",
   "execution_count": null,
   "metadata": {},
   "outputs": [],
   "source": []
  }
 ],
 "metadata": {
  "kernelspec": {
   "display_name": "Python 3",
   "language": "python",
   "name": "python3"
  },
  "language_info": {
   "codemirror_mode": {
    "name": "ipython",
    "version": 3
   },
   "file_extension": ".py",
   "mimetype": "text/x-python",
   "name": "python",
   "nbconvert_exporter": "python",
   "pygments_lexer": "ipython3",
   "version": "3.7.3"
  }
 },
 "nbformat": 4,
 "nbformat_minor": 2
}
